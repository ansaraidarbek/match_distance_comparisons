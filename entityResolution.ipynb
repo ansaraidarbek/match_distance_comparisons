{
 "cells": [
  {
   "cell_type": "markdown",
   "metadata": {},
   "source": [
    "<h1>Entiry Resolution techniques</h1>\n",
    "application of various distance measuring techniques on the Amazon-Google dataset<br><br>\n",
    "<strong>the dataset was taken from the paper:</strong><br>\n",
    "    <p style=\"padding-left:5em\">Köpcke, H., Thor, A., & Rahm, E. (2010). Evaluation of entity resolution approaches on real-world match problems. Proceedings of the VLDB Endowment, 3(1-2), 4 </p>"
   ]
  },
  {
   "cell_type": "markdown",
   "metadata": {},
   "source": [
    "<h2>Data description</h2>\n",
    "    The dataset contains 2600 entries with three unique columns -> Amazon, Google, Match  <br>\n",
    "    <hr>\n",
    "    <p style=\"background-color: rgb(255, 127, 0);color:black;font-weight:bold\">Amazon column consist of its own titles for products  <span style=\"position:absolute;right:10em\">string</span> <br></p>\n",
    "    <p style=\"background-color: rgb(0, 255, 127);color:black;font-weight:bold\">Google column consist of its own titles for products  <span style=\"position:absolute;right:10em\">string</span> <br></p>\n",
    "    <p style=\"background-color: rgb(127, 0, 255);color:black;font-weight:bold\">Match columns consist of 0 or 1, where 0 means no match between both titles and 1 means a match between titles <span style=\"position:absolute;right:10em\">boolean</span> <br></p>"
   ]
  },
  {
   "cell_type": "markdown",
   "metadata": {},
   "source": [
    "<h2>Add libraries</h2>"
   ]
  },
  {
   "cell_type": "code",
   "execution_count": 15,
   "metadata": {},
   "outputs": [],
   "source": [
    "import pandas as pd\n",
    "import numpy as np\n",
    "import matplotlib.pyplot as plt\n",
    "from sklearn import metrics\n",
    "import spacy\n",
    "from string2string.distance import LevenshteinEditDistance, JaccardIndex\n",
    "from string2string.similarity import JaroSimilarity\n",
    "from string2string.misc import Tokenizer\n",
    "import re"
   ]
  },
  {
   "cell_type": "markdown",
   "metadata": {},
   "source": [
    "<h2>Read target file</h2>"
   ]
  },
  {
   "cell_type": "code",
   "execution_count": 16,
   "metadata": {},
   "outputs": [
    {
     "data": {
      "text/html": [
       "<div>\n",
       "<style scoped>\n",
       "    .dataframe tbody tr th:only-of-type {\n",
       "        vertical-align: middle;\n",
       "    }\n",
       "\n",
       "    .dataframe tbody tr th {\n",
       "        vertical-align: top;\n",
       "    }\n",
       "\n",
       "    .dataframe thead th {\n",
       "        text-align: right;\n",
       "    }\n",
       "</style>\n",
       "<table border=\"1\" class=\"dataframe\">\n",
       "  <thead>\n",
       "    <tr style=\"text-align: right;\">\n",
       "      <th></th>\n",
       "      <th>Amazon</th>\n",
       "      <th>Google</th>\n",
       "      <th>Match</th>\n",
       "    </tr>\n",
       "  </thead>\n",
       "  <tbody>\n",
       "    <tr>\n",
       "      <th>0</th>\n",
       "      <td>clickart 950 000 - premier image pack (dvd-rom)</td>\n",
       "      <td>clickart 950000 - premier image pack (dvd-rom)</td>\n",
       "      <td>1.0</td>\n",
       "    </tr>\n",
       "    <tr>\n",
       "      <th>1</th>\n",
       "      <td>noah's ark activity center (jewel case ages 3-8)</td>\n",
       "      <td>the beginners bible: noah's ark activity cente...</td>\n",
       "      <td>1.0</td>\n",
       "    </tr>\n",
       "    <tr>\n",
       "      <th>2</th>\n",
       "      <td>peachtree by sage premium accounting for nonpr...</td>\n",
       "      <td>sage (ptree) - vernfp2007rt - premium accounti...</td>\n",
       "      <td>1.0</td>\n",
       "    </tr>\n",
       "    <tr>\n",
       "      <th>3</th>\n",
       "      <td>singing coach unlimited</td>\n",
       "      <td>singing coach unlimited - electronic learning ...</td>\n",
       "      <td>1.0</td>\n",
       "    </tr>\n",
       "    <tr>\n",
       "      <th>4</th>\n",
       "      <td>adobe after effects professional 6.5 upgrade f...</td>\n",
       "      <td>adobe software 22070152 after effects 6.5 pbupgrd</td>\n",
       "      <td>1.0</td>\n",
       "    </tr>\n",
       "  </tbody>\n",
       "</table>\n",
       "</div>"
      ],
      "text/plain": [
       "                                              Amazon  \\\n",
       "0    clickart 950 000 - premier image pack (dvd-rom)   \n",
       "1   noah's ark activity center (jewel case ages 3-8)   \n",
       "2  peachtree by sage premium accounting for nonpr...   \n",
       "3                            singing coach unlimited   \n",
       "4  adobe after effects professional 6.5 upgrade f...   \n",
       "\n",
       "                                              Google  Match  \n",
       "0     clickart 950000 - premier image pack (dvd-rom)    1.0  \n",
       "1  the beginners bible: noah's ark activity cente...    1.0  \n",
       "2  sage (ptree) - vernfp2007rt - premium accounti...    1.0  \n",
       "3  singing coach unlimited - electronic learning ...    1.0  \n",
       "4  adobe software 22070152 after effects 6.5 pbupgrd    1.0  "
      ]
     },
     "execution_count": 16,
     "metadata": {},
     "output_type": "execute_result"
    }
   ],
   "source": [
    "df = pd.read_csv('Amzon_Google.csv',\n",
    "                 sep=';',\n",
    "                 encoding='latin1')\n",
    "df['Match'] = df['Match'].astype(float)\n",
    "df.head()"
   ]
  },
  {
   "cell_type": "markdown",
   "metadata": {},
   "source": [
    "<h2>Create arrays to handle distance</h2>"
   ]
  },
  {
   "cell_type": "code",
   "execution_count": 17,
   "metadata": {},
   "outputs": [],
   "source": [
    "LevensteinD = []\n",
    "JaccardD = []\n",
    "JaroDC = []\n",
    "JaroDW = []\n",
    "trueValls = df['Match'].to_numpy()"
   ]
  },
  {
   "cell_type": "markdown",
   "metadata": {},
   "source": [
    "<h2>Create function addDistances</h2>\n",
    "<ol>\n",
    "<li>Calculate Levenshtein, Jaccard, Jaro distances for each string</li>\n",
    "<li>Append results to arrays</li>\n",
    "<li>Append arrays to dataframe</li>\n",
    "</ol>"
   ]
  },
  {
   "cell_type": "code",
   "execution_count": 18,
   "metadata": {},
   "outputs": [],
   "source": [
    "def addDistances(df):  \n",
    "    LevensteinD.clear()\n",
    "    JaccardD.clear()\n",
    "    JaroDC.clear()\n",
    "    JaroDW.clear()\n",
    "    tokenizer = Tokenizer(word_delimiter=' ')\n",
    "    LD = LevenshteinEditDistance()\n",
    "    JD = JaccardIndex()\n",
    "    JS = JaroSimilarity()\n",
    "    for ix in df.index:\n",
    "        # df.Amazon[ix] && df.Google[ix]\n",
    "        tokenizedAmazon = tokenizer.tokenize(df.Amazon[ix])\n",
    "        tokenizedGoogle = tokenizer.tokenize(df.Google[ix])\n",
    "        LDscore = LD.compute(df.Amazon[ix], df.Google[ix])\n",
    "        LDscoreNorm = LDscore/ max(len(df.Amazon[ix]), len(df.Google[ix]))\n",
    "        JDscore = JD.compute(tokenizedAmazon, tokenizedGoogle)\n",
    "        JSCscore = 1 - JS.compute(df.Amazon[ix], df.Google[ix])\n",
    "        JSWscore = 1 - JS.compute(tokenizedAmazon, tokenizedGoogle)\n",
    "        # print(LDscore, JDscore, JSCscore, JSWscore)\n",
    "        # break\n",
    "        LevensteinD.append(LDscoreNorm)\n",
    "        JaccardD.append(JDscore)\n",
    "        JaroDC.append(JSCscore)\n",
    "        JaroDW.append(JSWscore)\n",
    "    df = df.drop(['LevensteinD', 'JaccardD','JaroDC', 'JaroDW' ], axis=1, errors='ignore')\n",
    "    df['LevensteinD'] = LevensteinD\n",
    "    df['JaccardD'] = JaccardD\n",
    "    df['JaroDC'] = JaroDC\n",
    "    df['JaroDW'] = JaroDW\n",
    "    return df"
   ]
  },
  {
   "cell_type": "markdown",
   "metadata": {},
   "source": [
    "<h2>Call add distance function</h2"
   ]
  },
  {
   "cell_type": "code",
   "execution_count": 19,
   "metadata": {},
   "outputs": [
    {
     "data": {
      "text/html": [
       "<div>\n",
       "<style scoped>\n",
       "    .dataframe tbody tr th:only-of-type {\n",
       "        vertical-align: middle;\n",
       "    }\n",
       "\n",
       "    .dataframe tbody tr th {\n",
       "        vertical-align: top;\n",
       "    }\n",
       "\n",
       "    .dataframe thead th {\n",
       "        text-align: right;\n",
       "    }\n",
       "</style>\n",
       "<table border=\"1\" class=\"dataframe\">\n",
       "  <thead>\n",
       "    <tr style=\"text-align: right;\">\n",
       "      <th></th>\n",
       "      <th>Amazon</th>\n",
       "      <th>Google</th>\n",
       "      <th>Match</th>\n",
       "      <th>LevensteinD</th>\n",
       "      <th>JaccardD</th>\n",
       "      <th>JaroDC</th>\n",
       "      <th>JaroDW</th>\n",
       "    </tr>\n",
       "  </thead>\n",
       "  <tbody>\n",
       "    <tr>\n",
       "      <th>0</th>\n",
       "      <td>clickart 950 000 - premier image pack (dvd-rom)</td>\n",
       "      <td>clickart 950000 - premier image pack (dvd-rom)</td>\n",
       "      <td>1.0</td>\n",
       "      <td>0.021277</td>\n",
       "      <td>0.333333</td>\n",
       "      <td>0.086802</td>\n",
       "      <td>0.130952</td>\n",
       "    </tr>\n",
       "    <tr>\n",
       "      <th>1</th>\n",
       "      <td>noah's ark activity center (jewel case ages 3-8)</td>\n",
       "      <td>the beginners bible: noah's ark activity cente...</td>\n",
       "      <td>1.0</td>\n",
       "      <td>0.640625</td>\n",
       "      <td>0.666667</td>\n",
       "      <td>0.362756</td>\n",
       "      <td>0.430556</td>\n",
       "    </tr>\n",
       "    <tr>\n",
       "      <th>2</th>\n",
       "      <td>peachtree by sage premium accounting for nonpr...</td>\n",
       "      <td>sage (ptree) - vernfp2007rt - premium accounti...</td>\n",
       "      <td>1.0</td>\n",
       "      <td>0.338235</td>\n",
       "      <td>0.454545</td>\n",
       "      <td>0.269958</td>\n",
       "      <td>0.216667</td>\n",
       "    </tr>\n",
       "    <tr>\n",
       "      <th>3</th>\n",
       "      <td>singing coach unlimited</td>\n",
       "      <td>singing coach unlimited - electronic learning ...</td>\n",
       "      <td>1.0</td>\n",
       "      <td>0.574074</td>\n",
       "      <td>0.571429</td>\n",
       "      <td>0.191358</td>\n",
       "      <td>0.190476</td>\n",
       "    </tr>\n",
       "    <tr>\n",
       "      <th>4</th>\n",
       "      <td>adobe after effects professional 6.5 upgrade f...</td>\n",
       "      <td>adobe software 22070152 after effects 6.5 pbupgrd</td>\n",
       "      <td>1.0</td>\n",
       "      <td>0.783784</td>\n",
       "      <td>0.666667</td>\n",
       "      <td>0.353890</td>\n",
       "      <td>0.342857</td>\n",
       "    </tr>\n",
       "  </tbody>\n",
       "</table>\n",
       "</div>"
      ],
      "text/plain": [
       "                                              Amazon  \\\n",
       "0    clickart 950 000 - premier image pack (dvd-rom)   \n",
       "1   noah's ark activity center (jewel case ages 3-8)   \n",
       "2  peachtree by sage premium accounting for nonpr...   \n",
       "3                            singing coach unlimited   \n",
       "4  adobe after effects professional 6.5 upgrade f...   \n",
       "\n",
       "                                              Google  Match  LevensteinD  \\\n",
       "0     clickart 950000 - premier image pack (dvd-rom)    1.0     0.021277   \n",
       "1  the beginners bible: noah's ark activity cente...    1.0     0.640625   \n",
       "2  sage (ptree) - vernfp2007rt - premium accounti...    1.0     0.338235   \n",
       "3  singing coach unlimited - electronic learning ...    1.0     0.574074   \n",
       "4  adobe software 22070152 after effects 6.5 pbupgrd    1.0     0.783784   \n",
       "\n",
       "   JaccardD    JaroDC    JaroDW  \n",
       "0  0.333333  0.086802  0.130952  \n",
       "1  0.666667  0.362756  0.430556  \n",
       "2  0.454545  0.269958  0.216667  \n",
       "3  0.571429  0.191358  0.190476  \n",
       "4  0.666667  0.353890  0.342857  "
      ]
     },
     "execution_count": 19,
     "metadata": {},
     "output_type": "execute_result"
    }
   ],
   "source": [
    "df = addDistances(df)\n",
    "df.head()"
   ]
  },
  {
   "cell_type": "code",
   "execution_count": 20,
   "metadata": {},
   "outputs": [],
   "source": [
    "def plotROC():\n",
    "    LevensteinD_fpr, LevensteinD_tpr, _ = metrics.roc_curve(trueValls, LevensteinD, pos_label=0)\n",
    "    JaccardD_fpr, JaccardD_tpr, _ = metrics.roc_curve(trueValls, JaccardD, pos_label=0)\n",
    "    JaroDC_fpr, JaroDC_tpr, _ = metrics.roc_curve(trueValls, JaroDC, pos_label=0)\n",
    "    JaroDW_fpr, JaroDW_tpr, _ = metrics.roc_curve(trueValls, JaroDW, pos_label=0)\n",
    "    plt.plot(LevensteinD_fpr, LevensteinD_tpr, label=\"Levenstein distance (character level)\")\n",
    "    plt.plot(JaccardD_fpr, JaccardD_tpr, label=\"Jacard distance (word level)\")\n",
    "    plt.plot(JaroDC_fpr, JaroDC_tpr, label=\"Jaro distance (character level)\")\n",
    "    plt.plot(JaroDW_fpr, JaroDW_tpr, label=\"Jaro distance (word level)\")\n",
    "    plt.legend()\n",
    "    plt.show()"
   ]
  },
  {
   "cell_type": "code",
   "execution_count": 21,
   "metadata": {},
   "outputs": [
    {
     "data": {
      "image/png": "[encoded data removed]",
      "text/plain": [
       "<Figure size 432x288 with 1 Axes>"
      ]
     },
     "metadata": {
      "needs_background": "light"
     },
     "output_type": "display_data"
    }
   ],
   "source": [
    "plotROC()"
   ]
  },
  {
   "cell_type": "markdown",
   "metadata": {},
   "source": [
    "<h2>AUC</h2>\n",
    "<h3>In order to understand which model performed better I want to find auc as well</h3>"
   ]
  },
  {
   "cell_type": "code",
   "execution_count": 22,
   "metadata": {},
   "outputs": [],
   "source": [
    "def plotAUC():\n",
    "    LevensteinD_fpr, LevensteinD_tpr, _ = metrics.roc_curve(trueValls, LevensteinD, pos_label=0)\n",
    "    JaccardD_fpr, JaccardD_tpr, _ = metrics.roc_curve(trueValls, JaccardD, pos_label=0)\n",
    "    JaroDC_fpr, JaroDC_tpr, _ = metrics.roc_curve(trueValls, JaroDC, pos_label=0)\n",
    "    JaroDW_fpr, JaroDW_tpr, _ = metrics.roc_curve(trueValls, JaroDW, pos_label=0)\n",
    "\n",
    "    LevensteinD_auc = metrics.auc(LevensteinD_fpr, LevensteinD_tpr)\n",
    "    JaccardD_auc = metrics.auc(JaccardD_fpr, JaccardD_tpr)\n",
    "    JaroDC_auc = metrics.auc(JaroDC_fpr, JaroDC_tpr)\n",
    "    JaroDW_auc = metrics.auc(JaroDW_fpr, JaroDW_tpr)\n",
    "\n",
    "    print(\"LevensteinD_auc: \", LevensteinD_auc)\n",
    "    print(\"JaccardD_auc: \", JaccardD_auc)\n",
    "    print(\"JaroDC_auc: \", JaroDC_auc)\n",
    "    print(\"JaroDW_auc: \", JaroDW_auc)"
   ]
  },
  {
   "cell_type": "code",
   "execution_count": 23,
   "metadata": {},
   "outputs": [
    {
     "name": "stdout",
     "output_type": "stream",
     "text": [
      "LevensteinD_auc:  0.9396633136094674\n",
      "JaccardD_auc:  0.9934816568047338\n",
      "JaroDC_auc:  0.9130097633136095\n",
      "JaroDW_auc:  0.9350946745562131\n"
     ]
    }
   ],
   "source": [
    "plotAUC()"
   ]
  },
  {
   "cell_type": "markdown",
   "metadata": {},
   "source": [
    "<h2>ANALYSIS</h2>\n",
    "<h3>Looks like the best distance estimator is Jaccard distance. Comparing text by characters presented a good results, however I assumed much worser, <br>\n",
    "maybe due to relatively small dataset. I assume that the reason jaccard distance being so good is that the complexity of data was relatively easy<br>\n",
    "We have used titles of products based on the amazon and google data, which by itself is compressed and straightforward.</h3>"
   ]
  },
  {
   "cell_type": "markdown",
   "metadata": {},
   "source": [
    "<h2>Data preprocessing</h2>\n",
    "<h3>Let's see if data preprocessing will change the results</h3>\n",
    "    <ol>\n",
    "        <li>Punctuations</li>\n",
    "        <li>Stop words</li>\n",
    "        <li>Lemmatization</li>\n",
    "    </ol>"
   ]
  },
  {
   "cell_type": "code",
   "execution_count": 24,
   "metadata": {},
   "outputs": [],
   "source": [
    "def dataPreprop(df):\n",
    "    nlp = spacy.load('en_core_web_sm')\n",
    "    for ix in df.index:\n",
    "        # df.Amazon[ix] && df.Google[ix]\n",
    "        filtered = ' '.join(re.findall(r\"[-+]?[0-9]+[\\.|\\-]?[0-9]+|[a-z0-9]+\", (df.Amazon[ix])))\n",
    "        doc = nlp(filtered)\n",
    "        df.at[ix, \"Amazon\"] = \" \".join([token.lemma_ for token in doc if token.is_stop == False])\n",
    "\n",
    "        filtered = ' '.join(re.findall(r\"[-+]?[0-9]+[\\.|\\-]?[0-9]+|[a-z0-9]+\", (df.Google[ix])))\n",
    "        doc = nlp(filtered)\n",
    "        df.at[ix, \"Google\"] = \" \".join([token.lemma_ for token in doc if token.is_stop == False])\n",
    "    return df\n",
    "\n"
   ]
  },
  {
   "cell_type": "code",
   "execution_count": 25,
   "metadata": {},
   "outputs": [
    {
     "data": {
      "text/html": [
       "<div>\n",
       "<style scoped>\n",
       "    .dataframe tbody tr th:only-of-type {\n",
       "        vertical-align: middle;\n",
       "    }\n",
       "\n",
       "    .dataframe tbody tr th {\n",
       "        vertical-align: top;\n",
       "    }\n",
       "\n",
       "    .dataframe thead th {\n",
       "        text-align: right;\n",
       "    }\n",
       "</style>\n",
       "<table border=\"1\" class=\"dataframe\">\n",
       "  <thead>\n",
       "    <tr style=\"text-align: right;\">\n",
       "      <th></th>\n",
       "      <th>Amazon</th>\n",
       "      <th>Google</th>\n",
       "      <th>Match</th>\n",
       "      <th>LevensteinD</th>\n",
       "      <th>JaccardD</th>\n",
       "      <th>JaroDC</th>\n",
       "      <th>JaroDW</th>\n",
       "    </tr>\n",
       "  </thead>\n",
       "  <tbody>\n",
       "    <tr>\n",
       "      <th>2595</th>\n",
       "      <td>shape</td>\n",
       "      <td>aspyr media inc enemy territory quake war</td>\n",
       "      <td>0.0</td>\n",
       "      <td>0.906977</td>\n",
       "      <td>1.0</td>\n",
       "      <td>0.496770</td>\n",
       "      <td>1.0</td>\n",
       "    </tr>\n",
       "    <tr>\n",
       "      <th>2596</th>\n",
       "      <td>dragon naturally speak standard v9</td>\n",
       "      <td>print shop deluxe 21</td>\n",
       "      <td>0.0</td>\n",
       "      <td>0.810811</td>\n",
       "      <td>1.0</td>\n",
       "      <td>0.486729</td>\n",
       "      <td>1.0</td>\n",
       "    </tr>\n",
       "    <tr>\n",
       "      <th>2597</th>\n",
       "      <td>mediarecover</td>\n",
       "      <td>sony media software acid pro 5 music productio...</td>\n",
       "      <td>0.0</td>\n",
       "      <td>0.821429</td>\n",
       "      <td>1.0</td>\n",
       "      <td>0.462698</td>\n",
       "      <td>1.0</td>\n",
       "    </tr>\n",
       "    <tr>\n",
       "      <th>2598</th>\n",
       "      <td>mediarecover</td>\n",
       "      <td>instant immersion italian 2.0</td>\n",
       "      <td>0.0</td>\n",
       "      <td>0.862069</td>\n",
       "      <td>1.0</td>\n",
       "      <td>0.542146</td>\n",
       "      <td>1.0</td>\n",
       "    </tr>\n",
       "    <tr>\n",
       "      <th>2599</th>\n",
       "      <td>photo explosion 3.0</td>\n",
       "      <td>punch software 85100 punch master landscape pr...</td>\n",
       "      <td>0.0</td>\n",
       "      <td>0.840580</td>\n",
       "      <td>1.0</td>\n",
       "      <td>0.537058</td>\n",
       "      <td>1.0</td>\n",
       "    </tr>\n",
       "  </tbody>\n",
       "</table>\n",
       "</div>"
      ],
      "text/plain": [
       "                                  Amazon  \\\n",
       "2595                               shape   \n",
       "2596  dragon naturally speak standard v9   \n",
       "2597                        mediarecover   \n",
       "2598                        mediarecover   \n",
       "2599                 photo explosion 3.0   \n",
       "\n",
       "                                                 Google  Match  LevensteinD  \\\n",
       "2595          aspyr media inc enemy territory quake war    0.0     0.906977   \n",
       "2596                               print shop deluxe 21    0.0     0.810811   \n",
       "2597  sony media software acid pro 5 music productio...    0.0     0.821429   \n",
       "2598                      instant immersion italian 2.0    0.0     0.862069   \n",
       "2599  punch software 85100 punch master landscape pr...    0.0     0.840580   \n",
       "\n",
       "      JaccardD    JaroDC  JaroDW  \n",
       "2595       1.0  0.496770     1.0  \n",
       "2596       1.0  0.486729     1.0  \n",
       "2597       1.0  0.462698     1.0  \n",
       "2598       1.0  0.542146     1.0  \n",
       "2599       1.0  0.537058     1.0  "
      ]
     },
     "execution_count": 25,
     "metadata": {},
     "output_type": "execute_result"
    }
   ],
   "source": [
    "df = dataPreprop(df)\n",
    "df.tail()"
   ]
  },
  {
   "cell_type": "markdown",
   "metadata": {},
   "source": [
    "<h2>Calculate New Distances</h2>"
   ]
  },
  {
   "cell_type": "code",
   "execution_count": 26,
   "metadata": {},
   "outputs": [
    {
     "data": {
      "text/html": [
       "<div>\n",
       "<style scoped>\n",
       "    .dataframe tbody tr th:only-of-type {\n",
       "        vertical-align: middle;\n",
       "    }\n",
       "\n",
       "    .dataframe tbody tr th {\n",
       "        vertical-align: top;\n",
       "    }\n",
       "\n",
       "    .dataframe thead th {\n",
       "        text-align: right;\n",
       "    }\n",
       "</style>\n",
       "<table border=\"1\" class=\"dataframe\">\n",
       "  <thead>\n",
       "    <tr style=\"text-align: right;\">\n",
       "      <th></th>\n",
       "      <th>Amazon</th>\n",
       "      <th>Google</th>\n",
       "      <th>Match</th>\n",
       "      <th>LevensteinD</th>\n",
       "      <th>JaccardD</th>\n",
       "      <th>JaroDC</th>\n",
       "      <th>JaroDW</th>\n",
       "    </tr>\n",
       "  </thead>\n",
       "  <tbody>\n",
       "    <tr>\n",
       "      <th>0</th>\n",
       "      <td>clickart 950 000 premier image pack dvd rom</td>\n",
       "      <td>clickart 950000 premier image pack dvd rom</td>\n",
       "      <td>1.0</td>\n",
       "      <td>0.023256</td>\n",
       "      <td>0.333333</td>\n",
       "      <td>0.102990</td>\n",
       "      <td>0.130952</td>\n",
       "    </tr>\n",
       "    <tr>\n",
       "      <th>1</th>\n",
       "      <td>noah s ark activity center jewel case age 3 - 8</td>\n",
       "      <td>beginner bible noah s ark activity center acti...</td>\n",
       "      <td>1.0</td>\n",
       "      <td>0.578947</td>\n",
       "      <td>0.615385</td>\n",
       "      <td>0.341034</td>\n",
       "      <td>0.329966</td>\n",
       "    </tr>\n",
       "    <tr>\n",
       "      <th>2</th>\n",
       "      <td>peachtree sage premium account nonprofit 2007</td>\n",
       "      <td>sage ptree vernfp2007rt premium account nonpro...</td>\n",
       "      <td>1.0</td>\n",
       "      <td>0.333333</td>\n",
       "      <td>0.375000</td>\n",
       "      <td>0.247090</td>\n",
       "      <td>0.150794</td>\n",
       "    </tr>\n",
       "    <tr>\n",
       "      <th>3</th>\n",
       "      <td>singe coach unlimited</td>\n",
       "      <td>singe coach unlimited electronic learning product</td>\n",
       "      <td>1.0</td>\n",
       "      <td>0.571429</td>\n",
       "      <td>0.500000</td>\n",
       "      <td>0.190476</td>\n",
       "      <td>0.166667</td>\n",
       "    </tr>\n",
       "    <tr>\n",
       "      <th>4</th>\n",
       "      <td>adobe effect professional 6.5 upgrade standard...</td>\n",
       "      <td>adobe software 22070152 effect 6.5 pbupgrd</td>\n",
       "      <td>1.0</td>\n",
       "      <td>0.745763</td>\n",
       "      <td>0.666667</td>\n",
       "      <td>0.356907</td>\n",
       "      <td>0.357143</td>\n",
       "    </tr>\n",
       "  </tbody>\n",
       "</table>\n",
       "</div>"
      ],
      "text/plain": [
       "                                              Amazon  \\\n",
       "0        clickart 950 000 premier image pack dvd rom   \n",
       "1    noah s ark activity center jewel case age 3 - 8   \n",
       "2      peachtree sage premium account nonprofit 2007   \n",
       "3                              singe coach unlimited   \n",
       "4  adobe effect professional 6.5 upgrade standard...   \n",
       "\n",
       "                                              Google  Match  LevensteinD  \\\n",
       "0         clickart 950000 premier image pack dvd rom    1.0     0.023256   \n",
       "1  beginner bible noah s ark activity center acti...    1.0     0.578947   \n",
       "2  sage ptree vernfp2007rt premium account nonpro...    1.0     0.333333   \n",
       "3  singe coach unlimited electronic learning product    1.0     0.571429   \n",
       "4         adobe software 22070152 effect 6.5 pbupgrd    1.0     0.745763   \n",
       "\n",
       "   JaccardD    JaroDC    JaroDW  \n",
       "0  0.333333  0.102990  0.130952  \n",
       "1  0.615385  0.341034  0.329966  \n",
       "2  0.375000  0.247090  0.150794  \n",
       "3  0.500000  0.190476  0.166667  \n",
       "4  0.666667  0.356907  0.357143  "
      ]
     },
     "execution_count": 26,
     "metadata": {},
     "output_type": "execute_result"
    }
   ],
   "source": [
    "df = addDistances(df)\n",
    "df.head()"
   ]
  },
  {
   "cell_type": "markdown",
   "metadata": {},
   "source": [
    "<h2>Plot new ROC</h2>"
   ]
  },
  {
   "cell_type": "code",
   "execution_count": 27,
   "metadata": {},
   "outputs": [
    {
     "data": {
      "image/png": "[encoded data removed]",
      "text/plain": [
       "<Figure size 432x288 with 1 Axes>"
      ]
     },
     "metadata": {
      "needs_background": "light"
     },
     "output_type": "display_data"
    }
   ],
   "source": [
    "plotROC()"
   ]
  },
  {
   "cell_type": "markdown",
   "metadata": {},
   "source": [
    "<h2>Plot new AUC</h2>"
   ]
  },
  {
   "cell_type": "code",
   "execution_count": 28,
   "metadata": {},
   "outputs": [
    {
     "name": "stdout",
     "output_type": "stream",
     "text": [
      "LevensteinD_auc:  0.9443047337278105\n",
      "JaccardD_auc:  0.9935582840236686\n",
      "JaroDC_auc:  0.9102760355029585\n",
      "JaroDW_auc:  0.9251523668639053\n"
     ]
    }
   ],
   "source": [
    "plotAUC()"
   ]
  },
  {
   "cell_type": "markdown",
   "metadata": {},
   "source": [
    "<h2>ANALYSIS</h2>\n",
    "<h3>After preprocessing the string the final results did not change much. From the results we can see that Jaccard and Levenstein have benefited from preprocessing while Jaro based distance showed downgrade. I bilieve the reason for a small changes, is that the dataset was relatively small. Therefore number of cases where lemmatization, punctuation and stop words could affect the whole document was at the minimum </h3>"
   ]
  },
  {
   "cell_type": "markdown",
   "metadata": {},
   "source": [
    "<h2>Updated match technique</h2>"
   ]
  },
  {
   "cell_type": "code",
   "execution_count": 38,
   "metadata": {},
   "outputs": [
    {
     "name": "stdout",
     "output_type": "stream",
     "text": [
      "Updated_auc:  0.9947355029585799\n"
     ]
    }
   ],
   "source": [
    "distances = [JaccardD, LevensteinD, JaroDW, JaroDC]\n",
    "updated = []\n",
    "for ix in df.index:\n",
    "    updated.append(((df.JaccardD[ix]*0.9 +df.JaroDW[ix]*0.1) *0.9) + ((LevensteinD[ix]*0.6 + df.JaroDC[ix]*0.4)*0.1))\n",
    "updated_fpr, updated_tpr, _ = metrics.roc_curve(trueValls, updated, pos_label=0)\n",
    "updated_auc = metrics.auc(updated_fpr, updated_tpr)\n",
    "\n",
    "print(\"Updated_auc: \", updated_auc)"
   ]
  },
  {
   "cell_type": "markdown",
   "metadata": {},
   "source": [
    "<h3>Based on the results of AUC, I have tried to set weights for each distance metric. Results show that <br>\n",
    "    Jaccard <- Levenstein <- Jaro word level <- Jaro character level.<br>\n",
    "    Respectively the formula is (Jaccard*0.9+JaroWord*0.1)*0.9 + ((Levenstein*0.6 + JaroCharacter*0.4)*0.1).<br>\n",
    "    As expected final result outperformed other distances by few points, due to the reason of dataset being relatively small.<br>\n",
    "    </h3>"
   ]
  }
 ],
 "metadata": {
  "kernelspec": {
   "display_name": "Python 3",
   "language": "python",
   "name": "python3"
  },
  "language_info": {
   "codemirror_mode": {
    "name": "ipython",
    "version": 3
   },
   "file_extension": ".py",
   "mimetype": "text/x-python",
   "name": "python",
   "nbconvert_exporter": "python",
   "pygments_lexer": "ipython3",
   "version": "3.9.6"
  },
  "orig_nbformat": 4
 },
 "nbformat": 4,
 "nbformat_minor": 2
}
